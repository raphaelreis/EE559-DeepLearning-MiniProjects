{
 "cells": [
  {
   "cell_type": "code",
   "execution_count": 4,
   "metadata": {},
   "outputs": [],
   "source": [
    "import torch \n",
    "import random\n",
    "import sys\n",
    "sys.path.append('..')\n",
    "from torch import nn \n",
    "from torch.nn import functional as F\n",
    "from torch import optim\n",
    "from utils.loader import PairSetMNIST,Training_set,Test_set, Training_set_split,Validation_set\n",
    "from torch.utils.data import Dataset, DataLoader\n",
    "from models.Basic import Net2C\n",
    "from models.Le_Net import LeNet_sharing"
   ]
  },
  {
   "cell_type": "code",
   "execution_count": 3,
   "metadata": {},
   "outputs": [],
   "source": [
    "model = Net2C(150,0.2)"
   ]
  },
  {
   "cell_type": "code",
   "execution_count": 5,
   "metadata": {},
   "outputs": [],
   "source": [
    "data = PairSetMNIST()\n",
    "train_data = Training_set(data)\n",
    "test_data = Test_set(data)\n",
    "train_data_split =Training_set_split(train_data,True,True,True)\n",
    "validation_data= Validation_set(train_data)"
   ]
  },
  {
   "cell_type": "code",
   "execution_count": 8,
   "metadata": {},
   "outputs": [
    {
     "name": "stdout",
     "output_type": "stream",
     "text": [
      "torch.Size([200, 2, 14, 14])\n",
      "torch.Size([200, 32, 8, 8])\n",
      "torch.Size([200, 64, 2, 2])\n",
      "torch.Size([200, 150])\n",
      "torch.Size([200, 150])\n",
      "torch.Size([200, 2])\n"
     ]
    }
   ],
   "source": [
    "output = model(validation_data.valid_input)"
   ]
  },
  {
   "cell_type": "code",
   "execution_count": 6,
   "metadata": {},
   "outputs": [],
   "source": [
    "model = LeNet_sharing()"
   ]
  },
  {
   "cell_type": "code",
   "execution_count": 7,
   "metadata": {},
   "outputs": [
    {
     "name": "stdout",
     "output_type": "stream",
     "text": [
      "torch.Size([200, 32, 6, 6])\n",
      "torch.Size([200, 64, 2, 2])\n"
     ]
    }
   ],
   "source": [
    "output = model(validation_data.valid_input)"
   ]
  },
  {
   "cell_type": "code",
   "execution_count": null,
   "metadata": {},
   "outputs": [],
   "source": []
  }
 ],
 "metadata": {
  "kernelspec": {
   "display_name": "Python 3",
   "language": "python",
   "name": "python3"
  },
  "language_info": {
   "codemirror_mode": {
    "name": "ipython",
    "version": 3
   },
   "file_extension": ".py",
   "mimetype": "text/x-python",
   "name": "python",
   "nbconvert_exporter": "python",
   "pygments_lexer": "ipython3",
   "version": "3.7.3"
  }
 },
 "nbformat": 4,
 "nbformat_minor": 2
}
