{
 "cells": [
  {
   "cell_type": "code",
   "execution_count": 1,
   "metadata": {},
   "outputs": [],
   "source": [
    "import torch \n",
    "import sys\n",
    "sys.path.append('..')\n",
    "from torch import nn \n",
    "from torch.nn import functional as F\n",
    "from torch import optim\n",
    "#from utils.loader import load\n",
    "#from utils.loader import PairSetMNIST\n",
    "from utils.new_loader import load,PairSetMNIST,Training_set,Test_set, Training_set_split,Validation_set\n",
    "from torch.utils.data import Dataset, DataLoader"
   ]
  },
  {
   "cell_type": "code",
   "execution_count": 11,
   "metadata": {},
   "outputs": [
    {
     "output_type": "stream",
     "name": "stdout",
     "text": "torch.Size([2000, 2, 14, 14])\ntorch.Size([1000, 2, 14, 14])\ntorch.Size([1600, 2, 14, 14])\ntorch.Size([400, 2, 14, 14])\n"
    }
   ],
   "source": [
    "# load data with PairSetMNIST class \n",
    "\n",
    "data1 = PairSetMNIST(swap_channel=True)\n",
    "training_data1 = Training_set(data1)\n",
    "test_data1 = Test_set(data1)\n",
    "\n",
    "print(training_data1.train_input.shape)\n",
    "print(test_data1.test_input.shape)\n",
    "\n",
    "training_set_split1 = Training_set_split(training_data1 )\n",
    "validation_set1 = Validation_set(training_data1 )\n",
    "\n",
    "print(training_set_split1.train_input.shape)\n",
    "print(validation_set1.valid_input.shape)\n",
    "\n",
    "\n"
   ]
  },
  {
   "cell_type": "code",
   "execution_count": null,
   "metadata": {},
   "outputs": [],
   "source": []
  }
 ],
 "metadata": {
  "kernelspec": {
   "display_name": "Python 3",
   "language": "python",
   "name": "python3"
  },
  "language_info": {
   "codemirror_mode": {
    "name": "ipython",
    "version": 3
   },
   "file_extension": ".py",
   "mimetype": "text/x-python",
   "name": "python",
   "nbconvert_exporter": "python",
   "pygments_lexer": "ipython3",
   "version": "3.7.6-final"
  }
 },
 "nbformat": 4,
 "nbformat_minor": 4
}