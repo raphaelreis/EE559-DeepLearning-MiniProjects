{
 "cells": [
  {
   "cell_type": "code",
   "execution_count": 151,
   "metadata": {},
   "outputs": [],
   "source": [
    "%reload_ext autoreload\n",
    "%autoreload 1\n",
    "import torch \n",
    "import sys\n",
    "sys.path.append('..')\n",
    "from torch import nn \n",
    "from torch.nn import functional as F\n",
    "from torch import optim\n",
    "from utils.loader import load\n",
    "# from models.vince_models import Net2B"
   ]
  },
  {
   "cell_type": "code",
   "execution_count": 152,
   "metadata": {},
   "outputs": [],
   "source": [
    "# load the dataset\n",
    "\n",
    "train_input,train_target, train_classes, test_input, test_target, test_classes = load()\n",
    "train_target=train_target.float() # necessary ?\n",
    "test_target=test_target.float()"
   ]
  },
  {
   "cell_type": "code",
   "execution_count": 153,
   "metadata": {},
   "outputs": [],
   "source": [
    "class Net2(nn.Module):\n",
    "\n",
    "    def __init__(self, nb_hidden):\n",
    "        super(Net2, self).__init__()\n",
    "        \n",
    "        # number of input channels is 2.\n",
    "        self.conv1 = nn.Conv2d(2, 32, kernel_size = 5)\n",
    "        self.conv2 = nn.Conv2d(32, 64, kernel_size = 3)\n",
    "        self.fc1 = nn.Linear(256, nb_hidden)\n",
    "        self.fc2 = nn.Linear(nb_hidden, 1) # single output\n",
    "        self.sigmoid = nn.Sigmoid()  \n",
    "        \n",
    "    def forward(self,x):\n",
    "    \n",
    "        x = F.relu(F.max_pool2d(self.conv1(x), kernel_size = 3, stride = 1))\n",
    "        x = F.relu(F.max_pool2d(self.conv2(x), kernel_size = 3, stride = 3))\n",
    "        x = F.relu(self.fc1(x.view(-1, 256)))\n",
    "        x = self.fc2(x)\n",
    "        x = self.sigmoid(x) \n",
    "        return x # returns a probability "
   ]
  },
  {
   "cell_type": "code",
   "execution_count": 154,
   "metadata": {},
   "outputs": [],
   "source": [
    "def train_binary(model, epoch, train_input, train_target, batch_size):  \n",
    "    # train a binary classifier by minimizing the binary cross entropy loss of a sigmoid output\n",
    "    criterion = nn.BCELoss() # not BCELossWithLogits because sigmoid activation of output already applied in model architecture\n",
    "    optimizer = optim.SGD(model.parameters(), lr = 1e-1)\n",
    "    train_loss = 0\n",
    "    model.train()\n",
    "    for input_, target in (zip(train_input.split(batch_size), train_target.split(batch_size))):\n",
    "        output = model(input_)\n",
    "        optimizer.zero_grad()\n",
    "        batch_loss = criterion(output, target.unsqueeze(1))\n",
    "        batch_loss.backward()\n",
    "        optimizer.step()\n",
    "        train_loss += batch_loss   \n",
    "    print('Train Epoch: {}  | Loss {:.6f}'.format(\n",
    "                epoch, train_loss.item()))\n",
    "    \n",
    "\n",
    "def test_binary(model, test_input, test_target, batch_size):\n",
    "    # test a binary classifier using sigmoid followed by rounding ptobability to 0 or 1\n",
    "    criterion = nn.BCELoss() \n",
    "    model.eval()\n",
    "    test_loss = 0\n",
    "    correct = 0\n",
    "    with torch.no_grad():\n",
    "        for data, target in zip(test_input.split(batch_size), test_target.split(batch_size)):\n",
    "            output = model(data)\n",
    "            batch_loss = criterion(output, target.unsqueeze(1))\n",
    "            test_loss += batch_loss\n",
    "            pred = output \n",
    "            correct += torch.round(output).squeeze().eq(target).sum() # only need to rounf because sigmoid already applied in model \n",
    "        print('\\nTest set:  Loss: {:.4f}, Accuracy: {:.0f}%\\n'.format(\n",
    "        test_loss.item(), 100 * correct/len(test_target)))"
   ]
  },
  {
   "cell_type": "code",
   "execution_count": 157,
   "metadata": {},
   "outputs": [
    {
     "name": "stdout",
     "output_type": "stream",
     "text": [
      "Net2(\n",
      "  (conv1): Conv2d(2, 32, kernel_size=(5, 5), stride=(1, 1))\n",
      "  (conv2): Conv2d(32, 64, kernel_size=(3, 3), stride=(1, 1))\n",
      "  (fc1): Linear(in_features=256, out_features=100, bias=True)\n",
      "  (fc2): Linear(in_features=100, out_features=1, bias=True)\n",
      "  (sigmoid): Sigmoid()\n",
      ")\n"
     ]
    }
   ],
   "source": [
    "###############################\n",
    "###### Binary Classifier ######\n",
    "###############################\n",
    "\n",
    "# initialize\n",
    "mean, std = train_input.mean(), train_input.std()\n",
    "train_input.sub_(mean).div_(std)\n",
    "test_input.sub_(mean).div_(std)\n",
    "model = Net2(100)\n",
    "\n",
    "print(model)\n",
    "\n",
    "# train\n",
    "nb_epochs = 50\n",
    "for epoch in range(1, nb_epochs):\n",
    "    train_binary(model, epoch, train_input, train_target, 100)"
   ]
  },
  {
   "cell_type": "code",
   "execution_count": 158,
   "metadata": {},
   "outputs": [],
   "source": [
    "# test\n",
    "test_binary(model, test_input, test_target, 100)"
   ]
  }
 ],
 "metadata": {
  "kernelspec": {
   "display_name": "Python 3",
   "language": "python",
   "name": "python3"
  },
  "language_info": {
   "codemirror_mode": {
    "name": "ipython",
    "version": 3
   },
   "file_extension": ".py",
   "mimetype": "text/x-python",
   "name": "python",
   "nbconvert_exporter": "python",
   "pygments_lexer": "ipython3",
   "version": "3.7.6"
  }
 },
 "nbformat": 4,
 "nbformat_minor": 4
}
