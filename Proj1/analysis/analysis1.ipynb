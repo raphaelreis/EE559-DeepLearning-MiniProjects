{
 "cells": [
  {
   "cell_type": "code",
   "execution_count": 151,
   "metadata": {},
   "outputs": [],
   "source": [
    "%reload_ext autoreload\n",
    "%autoreload 1\n",
    "import torch \n",
    "import sys\n",
    "sys.path.append('..')\n",
    "from torch import nn \n",
    "from torch.nn import functional as F\n",
    "from torch import optim\n",
    "from utils.loader import load\n",
    "# from models.vince_models import Net2B"
   ]
  },
  {
   "cell_type": "code",
   "execution_count": 152,
   "metadata": {},
   "outputs": [],
   "source": [
    "# load the dataset\n",
    "train_input,train_target, train_classes, test_input, test_target, test_classes = load()\n",
    "train_target=train_target.float() # necessary ?\n",
    "test_target=test_target.float()"
   ]
  },
  {
   "cell_type": "code",
   "execution_count": 215,
   "metadata": {},
   "outputs": [],
   "source": [
    "# models\n",
    "class Net2C(nn.Module):\n",
    "\n",
    "    def __init__(self, nb_hidden):\n",
    "        super(Net2C, self).__init__()\n",
    "        \n",
    "        # number of input channels is 2.\n",
    "        self.conv1 = nn.Conv2d(2, 32, kernel_size = 5)\n",
    "        self.conv2 = nn.Conv2d(32, 64, kernel_size = 3)\n",
    "        self.fc1 = nn.Linear(256, nb_hidden)\n",
    "        #self.dropout = nn.Dropout()\n",
    "        self.fc2 = nn.Linear(nb_hidden, 1) # single output\n",
    "        self.sigmoid = nn.Sigmoid()  \n",
    "        \n",
    "    def forward(self,x):\n",
    "    \n",
    "        x = F.relu(F.max_pool2d(self.conv1(x), kernel_size = 3, stride = 1))\n",
    "        x = F.relu(F.max_pool2d(self.conv2(x), kernel_size = 3, stride = 3))\n",
    "        x = F.relu(self.fc1(x.view(-1, 256)))\n",
    "        #x = self.dropout(x)\n",
    "        x = self.fc2(x)\n",
    "        x = self.sigmoid(x) \n",
    "        return x # returns a probability "
   ]
  },
  {
   "cell_type": "code",
   "execution_count": 216,
   "metadata": {},
   "outputs": [],
   "source": [
    "def train_binary(model, epoch, train_input, train_target, batch_size, \n",
    "                 criterion = nn.BCELoss(), optimizer = optim.SGD, \n",
    "                 eta = 1e-1, penalty = None, lambda_l2 = 1e-3):  \n",
    "    # train a binary classifier by minimizing the binary cross entropy loss of a sigmoid output\n",
    "    # not BCELossWithLogits because sigmoid activation of output already applied in model architecture\n",
    "    model.train()\n",
    "    optimizer = optimizer(model.parameters(), lr = eta)\n",
    "    train_loss = 0\n",
    "    for input_, target in (zip(train_input.split(batch_size), train_target.split(batch_size))):\n",
    "        output = model(input_)\n",
    "        batch_loss = criterion(output, target.unsqueeze(1))\n",
    "        if penalty is not None:\n",
    "            for p in model.parameters():\n",
    "                batch_loss += lambda_l2 * p.pow(2).sum()\n",
    "        optimizer.zero_grad()\n",
    "        batch_loss.backward()\n",
    "        optimizer.step()\n",
    "        train_loss += batch_loss   \n",
    "    print('Train Epoch: {}  | Loss {:.6f}'.format(\n",
    "                epoch, train_loss.item()))\n",
    "    \n",
    "    \n",
    "\n",
    "def test_binary(model, test_input, test_target, batch_size, criterion = nn.BCELoss()):\n",
    "    # test a binary classifier using sigmoid followed by rounding ptobability to 0 or 1\n",
    "    model.eval()\n",
    "    test_loss = 0\n",
    "    correct = 0\n",
    "    with torch.no_grad():\n",
    "        for data, target in zip(test_input.split(batch_size), test_target.split(batch_size)):\n",
    "            output = model(data)\n",
    "            batch_loss = criterion(output, target.unsqueeze(1))\n",
    "            test_loss += batch_loss\n",
    "            pred = output \n",
    "            correct += torch.round(output).squeeze().eq(target).sum() # only need to round because sigmoid already applied in model \n",
    "        print('\\nTest set:  Loss: {:.4f}, Accuracy: {:.0f}%\\n'.format(\n",
    "        test_loss.item(), 100 * correct/len(test_target)))"
   ]
  },
  {
   "cell_type": "code",
   "execution_count": 217,
   "metadata": {},
   "outputs": [
    {
     "name": "stdout",
     "output_type": "stream",
     "text": [
      "Net2C(\n",
      "  (conv1): Conv2d(2, 32, kernel_size=(5, 5), stride=(1, 1))\n",
      "  (conv2): Conv2d(32, 64, kernel_size=(3, 3), stride=(1, 1))\n",
      "  (fc1): Linear(in_features=256, out_features=100, bias=True)\n",
      "  (fc2): Linear(in_features=100, out_features=1, bias=True)\n",
      "  (sigmoid): Sigmoid()\n",
      ")\n",
      "Train Epoch: 1  | Loss 6.857367\n",
      "Train Epoch: 2  | Loss 6.720750\n",
      "Train Epoch: 3  | Loss 6.581968\n",
      "Train Epoch: 4  | Loss 6.427313\n",
      "Train Epoch: 5  | Loss 6.267084\n",
      "Train Epoch: 6  | Loss 6.010625\n",
      "Train Epoch: 7  | Loss 5.759284\n",
      "Train Epoch: 8  | Loss 5.470505\n",
      "Train Epoch: 9  | Loss 5.230139\n",
      "Train Epoch: 10  | Loss 5.042088\n",
      "Train Epoch: 11  | Loss 4.786299\n",
      "Train Epoch: 12  | Loss 4.689999\n",
      "Train Epoch: 13  | Loss 4.686038\n",
      "Train Epoch: 14  | Loss 4.678190\n",
      "Train Epoch: 15  | Loss 4.226274\n",
      "Train Epoch: 16  | Loss 4.188221\n",
      "Train Epoch: 17  | Loss 3.844506\n",
      "Train Epoch: 18  | Loss 3.767357\n",
      "Train Epoch: 19  | Loss 3.518032\n",
      "Train Epoch: 20  | Loss 3.319799\n",
      "Train Epoch: 21  | Loss 3.705228\n",
      "Train Epoch: 22  | Loss 3.383016\n",
      "Train Epoch: 23  | Loss 3.743927\n",
      "Train Epoch: 24  | Loss 2.927798\n",
      "Train Epoch: 25  | Loss 2.786858\n",
      "Train Epoch: 26  | Loss 3.130970\n",
      "Train Epoch: 27  | Loss 2.617874\n",
      "Train Epoch: 28  | Loss 2.346694\n",
      "Train Epoch: 29  | Loss 3.098186\n",
      "Train Epoch: 30  | Loss 1.725635\n",
      "Train Epoch: 31  | Loss 2.884759\n",
      "Train Epoch: 32  | Loss 2.080177\n",
      "Train Epoch: 33  | Loss 2.160226\n",
      "Train Epoch: 34  | Loss 1.476550\n",
      "Train Epoch: 35  | Loss 4.189987\n",
      "Train Epoch: 36  | Loss 2.368672\n",
      "Train Epoch: 37  | Loss 1.716055\n",
      "Train Epoch: 38  | Loss 1.969310\n",
      "Train Epoch: 39  | Loss 1.803516\n",
      "Train Epoch: 40  | Loss 1.135522\n",
      "Train Epoch: 41  | Loss 0.932244\n",
      "Train Epoch: 42  | Loss 0.516906\n",
      "Train Epoch: 43  | Loss 0.697609\n",
      "Train Epoch: 44  | Loss 0.313067\n",
      "Train Epoch: 45  | Loss 0.205645\n",
      "Train Epoch: 46  | Loss 0.178487\n",
      "Train Epoch: 47  | Loss 0.145595\n",
      "Train Epoch: 48  | Loss 0.124023\n",
      "Train Epoch: 49  | Loss 0.108211\n"
     ]
    }
   ],
   "source": [
    "###############################\n",
    "###### Binary Classifier ######\n",
    "###############################\n",
    "\n",
    "# initialize\n",
    "mean, std = train_input.mean(), train_input.std()\n",
    "train_input.sub_(mean).div_(std)\n",
    "test_input.sub_(mean).div_(std)\n",
    "model = Net2C(100)\n",
    "\n",
    "print(model)\n",
    "\n",
    "# train\n",
    "nb_epochs = 50\n",
    "for epoch in range(1, nb_epochs):\n",
    "    train_binary(model, epoch, train_input, train_target, 100)"
   ]
  },
  {
   "cell_type": "code",
   "execution_count": 218,
   "metadata": {},
   "outputs": [
    {
     "name": "stdout",
     "output_type": "stream",
     "text": [
      "\n",
      "Test set:  Loss: 5.8567, Accuracy: 82%\n",
      "\n"
     ]
    }
   ],
   "source": [
    "# test\n",
    "test_binary(model, test_input, test_target, 100)"
   ]
  },
  {
   "cell_type": "code",
   "execution_count": null,
   "metadata": {},
   "outputs": [],
   "source": []
  }
 ],
 "metadata": {
  "kernelspec": {
   "display_name": "Python 3",
   "language": "python",
   "name": "python3"
  },
  "language_info": {
   "codemirror_mode": {
    "name": "ipython",
    "version": 3
   },
   "file_extension": ".py",
   "mimetype": "text/x-python",
   "name": "python",
   "nbconvert_exporter": "python",
   "pygments_lexer": "ipython3",
   "version": "3.7.6"
  }
 },
 "nbformat": 4,
 "nbformat_minor": 4
}
