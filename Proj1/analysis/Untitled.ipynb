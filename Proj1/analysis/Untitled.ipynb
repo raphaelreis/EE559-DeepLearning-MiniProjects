{
 "cells": [
  {
   "cell_type": "code",
   "execution_count": 1,
   "metadata": {},
   "outputs": [],
   "source": [
    "import torch \n",
    "import sys\n",
    "sys.path.append('..')\n",
    "from torch import nn \n",
    "from torch.nn import functional as F\n",
    "from torch import optim\n",
    "from utils.loader import load,PairSetMNIST,Training_set,Test_set, Training_set_split,Validation_set\n",
    "from torch.utils.data import Dataset, DataLoader\n",
    "from models.Le_Net import LeNet_sharing_aux, train_Le_Net\n",
    "from utils.evaluate import compute_metrics, validate_model,evaluate_model,grid_search"
   ]
  },
  {
   "cell_type": "code",
   "execution_count": null,
   "metadata": {},
   "outputs": [
    {
     "name": "stdout",
     "output_type": "stream",
     "text": [
      "Train Epoch: 0  | Loss 123.408501\n"
     ]
    }
   ],
   "source": [
    "train_results, test_losses, test_accuracies = grid_search(LeNet_sharing_aux,train_Le_Net, mini_batch_size=100, optimizer = optim.Adam,\n",
    "                 criterion = nn.CrossEntropyLoss(), n_epochs=40, eta=1e-3, \n",
    "                 lambda_l2 = 0, alpha=0.5, beta=0.5,rotate = True,translate=True,swap_channel = True)"
   ]
  },
  {
   "cell_type": "code",
   "execution_count": null,
   "metadata": {},
   "outputs": [],
   "source": []
  }
 ],
 "metadata": {
  "kernelspec": {
   "display_name": "Python 3",
   "language": "python",
   "name": "python3"
  },
  "language_info": {
   "codemirror_mode": {
    "name": "ipython",
    "version": 3
   },
   "file_extension": ".py",
   "mimetype": "text/x-python",
   "name": "python",
   "nbconvert_exporter": "python",
   "pygments_lexer": "ipython3",
   "version": "3.7.3"
  }
 },
 "nbformat": 4,
 "nbformat_minor": 2
}
