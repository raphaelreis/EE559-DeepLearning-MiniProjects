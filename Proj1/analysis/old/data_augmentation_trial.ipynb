{
 "cells": [
  {
   "cell_type": "code",
   "execution_count": 1,
   "metadata": {},
   "outputs": [],
   "source": [
    "import torch \n",
    "import sys\n",
    "sys.path.append('..')\n",
    "from torch import nn \n",
    "from torch.nn import functional as F\n",
    "from torch import optim\n",
    "from utils.new_loader import load,PairSetMNIST,Training_set,Test_set, Training_set_split,Validation_set\n",
    "from torch.utils.data import Dataset, DataLoader"
   ]
  },
  {
   "cell_type": "code",
   "execution_count": 14,
   "metadata": {},
   "outputs": [
    {
     "name": "stdout",
     "output_type": "stream",
     "text": [
      "torch.Size([5000, 2, 14, 14])\n",
      "torch.Size([1000, 2, 14, 14])\n"
     ]
    }
   ],
   "source": [
    "# load the dataset as a Dataset object\n",
    "data = PairSetMNIST( rotate = False , translate = True ,swap_channel = False)\n",
    "train_data = Training_set(data)\n",
    "test_data = Test_set(data)\n",
    "print(train_data.train_input.shape)\n",
    "print(test_data.test_input.shape)"
   ]
  },
  {
   "cell_type": "code",
   "execution_count": 17,
   "metadata": {},
   "outputs": [
    {
     "name": "stdout",
     "output_type": "stream",
     "text": [
      "tensor([2, 2])\n",
      "tensor([2, 2])\n",
      "tensor([2, 2])\n",
      "tensor([2, 2])\n",
      "tensor([2, 2])\n",
      "tensor(1)\n",
      "tensor(1)\n",
      "tensor(1)\n",
      "tensor(1)\n",
      "tensor(1)\n"
     ]
    },
    {
     "data": {
      "image/png": "[encoded data removed]",
      "text/plain": [
       "<Figure size 432x288 with 1 Axes>"
      ]
     },
     "metadata": {
      "needs_background": "light"
     },
     "output_type": "display_data"
    },
    {
     "data": {
      "image/png": "[encoded data removed]",
      "text/plain": [
       "<Figure size 432x288 with 1 Axes>"
      ]
     },
     "metadata": {
      "needs_background": "light"
     },
     "output_type": "display_data"
    },
    {
     "data": {
      "image/png": "[encoded data removed]",
      "text/plain": [
       "<Figure size 432x288 with 1 Axes>"
      ]
     },
     "metadata": {
      "needs_background": "light"
     },
     "output_type": "display_data"
    },
    {
     "data": {
      "image/png": "[encoded data removed]",
      "text/plain": [
       "<Figure size 432x288 with 1 Axes>"
      ]
     },
     "metadata": {
      "needs_background": "light"
     },
     "output_type": "display_data"
    },
    {
     "data": {
      "image/png": "[encoded data removed]",
      "text/plain": [
       "<Figure size 432x288 with 1 Axes>"
      ]
     },
     "metadata": {
      "needs_background": "light"
     },
     "output_type": "display_data"
    }
   ],
   "source": [
    "import matplotlib.pyplot as plt\n",
    "import numpy as np\n",
    "\n",
    "\n",
    "plt.figure()\n",
    "plt.imshow(train_data.train_input[0,0],cmap='gray')\n",
    "plt.figure()\n",
    "plt.imshow(train_data.train_input[1000,0],cmap='gray')\n",
    "plt.figure()\n",
    "plt.imshow(train_data.train_input[2000,0],cmap='gray')\n",
    "plt.figure()\n",
    "plt.imshow(train_data.train_input[3000,0],cmap='gray')\n",
    "plt.figure()\n",
    "plt.imshow(train_data.train_input[4000,0],cmap='gray')\n",
    "\n",
    "print(train_data.train_classes[0])\n",
    "print(train_data.train_classes[1000])\n",
    "print(train_data.train_classes[2000])\n",
    "print(train_data.train_classes[3000])\n",
    "print(train_data.train_classes[4000])\n",
    "print(train_data.train_target[0])\n",
    "print(train_data.train_target[1000])\n",
    "print(train_data.train_target[2000])\n",
    "print(train_data.train_target[3000])\n",
    "print(train_data.train_target[4000])"
   ]
  },
  {
   "cell_type": "code",
   "execution_count": 119,
   "metadata": {},
   "outputs": [
    {
     "data": {
      "text/plain": [
       "<matplotlib.image.AxesImage at 0xe567e80>"
      ]
     },
     "execution_count": 119,
     "metadata": {},
     "output_type": "execute_result"
    },
    {
     "data": {
      "image/png": "[encoded data removed]",
      "text/plain": [
       "<Figure size 432x288 with 1 Axes>"
      ]
     },
     "metadata": {
      "needs_background": "light"
     },
     "output_type": "display_data"
    }
   ],
   "source": [
    "h,w = training_data.train_input[0,1].shape\n",
    "\n",
    "empty_img = torch.zeros(h,w)\n",
    "\n",
    "#for i in range(h):\n",
    "    #for j in range(w):\n",
    "        #empty_img[i,j] = training_data.train_input[0,1][j,i]\n",
    "        #empty_img = empty_img[0:h,0:w]\n",
    "empty_img90= torch.rot90(training_data.train_input[0,1])\n",
    "\n",
    "plt.imshow(empty_img90,cmap='gray')"
   ]
  },
  {
   "cell_type": "code",
   "execution_count": 120,
   "metadata": {},
   "outputs": [
    {
     "data": {
      "text/plain": [
       "<matplotlib.image.AxesImage at 0xe60f400>"
      ]
     },
     "execution_count": 120,
     "metadata": {},
     "output_type": "execute_result"
    },
    {
     "data": {
      "image/png": "[encoded data removed]",
      "text/plain": [
       "<Figure size 432x288 with 1 Axes>"
      ]
     },
     "metadata": {
      "needs_background": "light"
     },
     "output_type": "display_data"
    }
   ],
   "source": [
    "empty_img = torch.zeros(h,w)\n",
    "\n",
    "#for i in range(h):\n",
    "    #for j in range(w):\n",
    "        #empty_img[i,j] = training_data.train_input[0,1][h-j-1,w-i-1]\n",
    "        #empty_img = empty_img[0:h,0:w]\n",
    "\n",
    "empty_img180= torch.rot90(empty_img90)\n",
    "plt.imshow(empty_img180,cmap='gray')"
   ]
  },
  {
   "cell_type": "code",
   "execution_count": 29,
   "metadata": {},
   "outputs": [
    {
     "data": {
      "text/plain": [
       "<matplotlib.image.AxesImage at 0xca30518>"
      ]
     },
     "execution_count": 29,
     "metadata": {},
     "output_type": "execute_result"
    },
    {
     "data": {
      "image/png": "[encoded data removed]",
      "text/plain": [
       "<Figure size 432x288 with 1 Axes>"
      ]
     },
     "metadata": {
      "needs_background": "light"
     },
     "output_type": "display_data"
    }
   ],
   "source": [
    "empty_img = torch.zeros(h,w)\n",
    "\n",
    "for i in range(h):\n",
    "    for j in range(w):\n",
    "        empty_img[i,j] = training_data.train_input[0,1][h-i-1,w-j-1]\n",
    "        #empty_img = empty_img[0:h,0:w]\n",
    "\n",
    "plt.imshow(empty_img,cmap='gray')"
   ]
  },
  {
   "cell_type": "code",
   "execution_count": 30,
   "metadata": {},
   "outputs": [],
   "source": [
    "img = training_data.train_input[0,1].numpy()\n"
   ]
  },
  {
   "cell_type": "code",
   "execution_count": 33,
   "metadata": {},
   "outputs": [
    {
     "data": {
      "text/plain": [
       "<matplotlib.image.AxesImage at 0xcaa3828>"
      ]
     },
     "execution_count": 33,
     "metadata": {},
     "output_type": "execute_result"
    },
    {
     "data": {
      "image/png": "[encoded data removed]",
      "text/plain": [
       "<Figure size 432x288 with 1 Axes>"
      ]
     },
     "metadata": {
      "needs_background": "light"
     },
     "output_type": "display_data"
    }
   ],
   "source": [
    "plt.imshow(img,cmap='gray')"
   ]
  },
  {
   "cell_type": "code",
   "execution_count": 40,
   "metadata": {},
   "outputs": [
    {
     "data": {
      "text/plain": [
       "<matplotlib.image.AxesImage at 0xcc1fcf8>"
      ]
     },
     "execution_count": 40,
     "metadata": {},
     "output_type": "execute_result"
    },
    {
     "data": {
      "image/png": "[encoded data removed]",
      "text/plain": [
       "<Figure size 432x288 with 1 Axes>"
      ]
     },
     "metadata": {
      "needs_background": "light"
     },
     "output_type": "display_data"
    }
   ],
   "source": [
    "h,w = img.shape\n",
    "\n",
    "empty_img = np.zeros([h,w])\n",
    "\n",
    "for i in range(h):\n",
    "    for j in range(w):\n",
    "        empty_img[i,j] = img[j,i]\n",
    "        \n",
    "empty_img[i,j] = empty_img[j,i]\n",
    "\n",
    "plt.imshow(empty_img,cmap='gray')"
   ]
  },
  {
   "cell_type": "code",
   "execution_count": 86,
   "metadata": {},
   "outputs": [
    {
     "name": "stdout",
     "output_type": "stream",
     "text": [
      "torch.Size([14, 14])\n"
     ]
    },
    {
     "data": {
      "text/plain": [
       "<matplotlib.image.AxesImage at 0xdfea748>"
      ]
     },
     "execution_count": 86,
     "metadata": {},
     "output_type": "execute_result"
    },
    {
     "data": {
      "image/png": "[encoded data removed]",
      "text/plain": [
       "<Figure size 432x288 with 1 Axes>"
      ]
     },
     "metadata": {
      "needs_background": "light"
     },
     "output_type": "display_data"
    }
   ],
   "source": [
    "emptyimg = torch.zeros(h,w)\n",
    "emptyimg[:-1,:-1] = training_data.train_input[0,1][1:,1:]\n",
    "print(training_data.train_input[0,1].shape)\n",
    "\n",
    "plt.imshow(emptyimg,cmap='gray')"
   ]
  },
  {
   "cell_type": "code",
   "execution_count": 209,
   "metadata": {},
   "outputs": [
    {
     "name": "stdout",
     "output_type": "stream",
     "text": [
      "tensor([[1, 2, 7],\n",
      "        [3, 4, 9],\n",
      "        [6, 5, 0]])\n"
     ]
    }
   ],
   "source": [
    "a = torch.tensor([[1,2,7],[3,4,9],[6,5,0]])\n",
    "print(a)\n"
   ]
  },
  {
   "cell_type": "code",
   "execution_count": 216,
   "metadata": {},
   "outputs": [],
   "source": [
    "b =torch.zeros(3,3)\n",
    "b[1:,:] = a[:-1,:]\n",
    "#b[2,:2] =a[1:,0].flip(0)\n",
    "#b[:2,2] = a[0,1:].flip(0)\n",
    "#b[2,2] =a[0,0]"
   ]
  },
  {
   "cell_type": "code",
   "execution_count": 217,
   "metadata": {},
   "outputs": [
    {
     "name": "stdout",
     "output_type": "stream",
     "text": [
      "tensor([[0., 0., 0.],\n",
      "        [1., 2., 7.],\n",
      "        [3., 4., 9.]])\n"
     ]
    }
   ],
   "source": [
    "print(b)"
   ]
  },
  {
   "cell_type": "code",
   "execution_count": 247,
   "metadata": {},
   "outputs": [
    {
     "name": "stdout",
     "output_type": "stream",
     "text": [
      "torch.Size([1000, 2, 14, 14])\n",
      "tensor([[-0.4653, -0.4653, -0.4653, -0.4653, -0.4653, -0.4653, -0.4653, -0.4653,\n",
      "         -0.4653, -0.4653, -0.4653, -0.4653, -0.4653, -0.4653],\n",
      "        [-0.4672, -0.4672, -0.4672, -0.4672, -0.4672, -0.4672, -0.4672, -0.4672,\n",
      "         -0.4672, -0.4672, -0.4672, -0.4672, -0.4672, -0.4672],\n",
      "        [-0.4672, -0.4672, -0.4672, -0.4672, -0.4672, -0.4672, -0.4672,  0.7175,\n",
      "          0.3203, -0.4672, -0.4672, -0.4672, -0.4672, -0.4672],\n",
      "        [-0.4672, -0.4672, -0.4672, -0.4672, -0.4672, -0.4672,  0.1321,  3.0485,\n",
      "          1.3865, -0.4672, -0.4672, -0.4672, -0.4672, -0.4672],\n",
      "        [-0.4672, -0.4672, -0.4672, -0.4672, -0.4672, -0.4672,  1.9997,  2.8847,\n",
      "         -0.1396, -0.4672, -0.4672, -0.4672, -0.4672, -0.4672],\n",
      "        [-0.4672, -0.4672, -0.4672, -0.4672, -0.4672,  0.2088,  3.0659,  1.6408,\n",
      "         -0.4672, -0.4672, -0.4672, -0.4672, -0.4672, -0.4672],\n",
      "        [-0.4672, -0.4672, -0.4672, -0.4672, -0.4672,  1.7384,  2.9858,  0.0381,\n",
      "         -0.0700,  0.6269, -0.4428, -0.4672, -0.4672, -0.4672],\n",
      "        [-0.4672, -0.4672, -0.4672, -0.4672, -0.0316,  2.9823,  1.6931,  1.0868,\n",
      "          3.0485,  3.0659,  1.3412, -0.4672, -0.4672, -0.4672],\n",
      "        [-0.4672, -0.4672, -0.4672, -0.4672,  0.8185,  3.0659,  2.0903,  3.0659,\n",
      "          1.5955,  2.9231,  1.7837, -0.4672, -0.4672, -0.4672],\n",
      "        [-0.4672, -0.4672, -0.4672, -0.4672,  1.9893,  3.0659,  3.0590,  2.4562,\n",
      "          2.2332,  2.9440,  0.0729, -0.4672, -0.4672, -0.4672],\n",
      "        [-0.4672, -0.4672, -0.4672, -0.4672,  1.9962,  3.0729,  3.0659,  3.0729,\n",
      "          2.8569,  0.4806, -0.4672, -0.4672, -0.4672, -0.4672],\n",
      "        [-0.4672, -0.4672, -0.4672, -0.4672,  0.3482,  2.4109,  3.0311,  1.4492,\n",
      "         -0.0560, -0.4672, -0.4672, -0.4672, -0.4672, -0.4672],\n",
      "        [-0.4672, -0.4672, -0.4672, -0.4672, -0.4672, -0.1849,  0.8917, -0.4672,\n",
      "         -0.4672, -0.4672, -0.4672, -0.4672, -0.4672, -0.4672],\n",
      "        [-0.4672, -0.4672, -0.4672, -0.4672, -0.4672, -0.4672, -0.4672, -0.4672,\n",
      "         -0.4672, -0.4672, -0.4672, -0.4672, -0.4672, -0.4672]])\n"
     ]
    },
    {
     "data": {
      "text/plain": [
       "<matplotlib.image.AxesImage at 0x10da96d8>"
      ]
     },
     "execution_count": 247,
     "metadata": {},
     "output_type": "execute_result"
    },
    {
     "data": {
      "image/png": "[encoded data removed]",
      "text/plain": [
       "<Figure size 432x288 with 1 Axes>"
      ]
     },
     "metadata": {
      "needs_background": "light"
     },
     "output_type": "display_data"
    }
   ],
   "source": [
    "emptyimg = torch.zeros(training_data.train_input.shape)\n",
    "print(emptyimg.shape)\n",
    "emptyimg[:,:,1:,:] = training_data.train_input[:,:,:-1,:]\n",
    "emptyimg[:,:,0,:] = -0.4653\n",
    "print(emptyimg[1,0])\n",
    "plt.imshow(emptyimg[0,0],cmap='gray')"
   ]
  },
  {
   "cell_type": "code",
   "execution_count": null,
   "metadata": {},
   "outputs": [],
   "source": []
  },
  {
   "cell_type": "code",
   "execution_count": 125,
   "metadata": {},
   "outputs": [
    {
     "name": "stdout",
     "output_type": "stream",
     "text": [
      "torch.Size([1000, 2, 14, 14])\n"
     ]
    },
    {
     "data": {
      "text/plain": [
       "<matplotlib.image.AxesImage at 0xe6e6ef0>"
      ]
     },
     "execution_count": 125,
     "metadata": {},
     "output_type": "execute_result"
    },
    {
     "data": {
      "image/png": "[encoded data removed]",
      "text/plain": [
       "<Figure size 432x288 with 1 Axes>"
      ]
     },
     "metadata": {
      "needs_background": "light"
     },
     "output_type": "display_data"
    }
   ],
   "source": [
    "empty_images90= torch.rot90(training_data.train_input,1,[2,3])\n",
    "print(empty_images90.shape)\n",
    "plt.imshow(empty_images90[0,1],cmap='gray')"
   ]
  },
  {
   "cell_type": "code",
   "execution_count": 127,
   "metadata": {},
   "outputs": [
    {
     "data": {
      "text/plain": [
       "<matplotlib.image.AxesImage at 0xe7ab1d0>"
      ]
     },
     "execution_count": 127,
     "metadata": {},
     "output_type": "execute_result"
    },
    {
     "data": {
      "image/png": "[encoded data removed]",
      "text/plain": [
       "<Figure size 432x288 with 1 Axes>"
      ]
     },
     "metadata": {
      "needs_background": "light"
     },
     "output_type": "display_data"
    }
   ],
   "source": [
    "empty_images180 = torch.rot90(training_data.train_input,2,[2,3])\n",
    "plt.imshow(empty_images180[0,1],cmap='gray')"
   ]
  },
  {
   "cell_type": "code",
   "execution_count": 128,
   "metadata": {},
   "outputs": [
    {
     "name": "stdout",
     "output_type": "stream",
     "text": [
      "torch.Size([1000, 2])\n"
     ]
    }
   ],
   "source": [
    "print(training_data.train_classes.shape)"
   ]
  },
  {
   "cell_type": "code",
   "execution_count": 129,
   "metadata": {},
   "outputs": [
    {
     "name": "stdout",
     "output_type": "stream",
     "text": [
      "tensor([9, 3])\n"
     ]
    }
   ],
   "source": [
    "print(training_data.train_classes[0])"
   ]
  },
  {
   "cell_type": "code",
   "execution_count": 194,
   "metadata": {},
   "outputs": [
    {
     "name": "stdout",
     "output_type": "stream",
     "text": [
      "tensor([[1, 2, 7],\n",
      "        [3, 4, 9],\n",
      "        [6, 9, 9]])\n",
      "tensor([[1, 2],\n",
      "        [2, 1],\n",
      "        [2, 2]])\n"
     ]
    }
   ],
   "source": [
    "a = torch.tensor([[1,2,7],[3,4,9],[6,9,9]])\n",
    "print(a)\n",
    "indices = (a == 9) \n",
    "index = indices.nonzero()\n",
    "#indices = indices.float()\n",
    "print(index)"
   ]
  },
  {
   "cell_type": "code",
   "execution_count": 197,
   "metadata": {},
   "outputs": [
    {
     "data": {
      "text/plain": [
       "tensor([9, 9, 9])"
      ]
     },
     "execution_count": 197,
     "metadata": {},
     "output_type": "execute_result"
    }
   ],
   "source": [
    "a[index[:,0],index[:,1]]"
   ]
  },
  {
   "cell_type": "code",
   "execution_count": 198,
   "metadata": {},
   "outputs": [
    {
     "name": "stdout",
     "output_type": "stream",
     "text": [
      "torch.Size([1000, 2, 14, 14])\n"
     ]
    },
    {
     "data": {
      "text/plain": [
       "<matplotlib.image.AxesImage at 0xe867d68>"
      ]
     },
     "execution_count": 198,
     "metadata": {},
     "output_type": "execute_result"
    },
    {
     "data": {
      "image/png": "[encoded data removed]",
      "text/plain": [
       "<Figure size 432x288 with 1 Axes>"
      ]
     },
     "metadata": {
      "needs_background": "light"
     },
     "output_type": "display_data"
    }
   ],
   "source": [
    "empty_images90= torch.rot90(training_data.train_input,1,[2,3])\n",
    "print(empty_images90.shape)\n",
    "plt.imshow(empty_images90[0,1],cmap='gray')"
   ]
  },
  {
   "cell_type": "code",
   "execution_count": 199,
   "metadata": {},
   "outputs": [],
   "source": [
    "indices = (training_data.train_classes == 9)"
   ]
  },
  {
   "cell_type": "code",
   "execution_count": 200,
   "metadata": {},
   "outputs": [
    {
     "name": "stdout",
     "output_type": "stream",
     "text": [
      "tensor([[  0,   0],\n",
      "        [  3,   0],\n",
      "        [  6,   1],\n",
      "        [  9,   0],\n",
      "        [  9,   1],\n",
      "        [ 26,   1],\n",
      "        [ 29,   0],\n",
      "        [ 35,   0],\n",
      "        [ 51,   0],\n",
      "        [ 61,   1],\n",
      "        [ 67,   1],\n",
      "        [ 71,   1],\n",
      "        [ 74,   0],\n",
      "        [ 81,   0],\n",
      "        [ 84,   0],\n",
      "        [ 84,   1],\n",
      "        [ 86,   1],\n",
      "        [ 88,   1],\n",
      "        [ 91,   0],\n",
      "        [ 99,   1],\n",
      "        [100,   1],\n",
      "        [109,   0],\n",
      "        [129,   1],\n",
      "        [136,   1],\n",
      "        [144,   1],\n",
      "        [148,   1],\n",
      "        [158,   1],\n",
      "        [160,   1],\n",
      "        [162,   0],\n",
      "        [163,   0],\n",
      "        [173,   0],\n",
      "        [175,   1],\n",
      "        [177,   1],\n",
      "        [183,   0],\n",
      "        [186,   1],\n",
      "        [187,   0],\n",
      "        [192,   0],\n",
      "        [196,   0],\n",
      "        [201,   0],\n",
      "        [211,   1],\n",
      "        [212,   0],\n",
      "        [215,   0],\n",
      "        [227,   0],\n",
      "        [230,   1],\n",
      "        [237,   0],\n",
      "        [243,   0],\n",
      "        [247,   0],\n",
      "        [248,   0],\n",
      "        [251,   0],\n",
      "        [255,   1],\n",
      "        [268,   1],\n",
      "        [270,   0],\n",
      "        [274,   1],\n",
      "        [293,   0],\n",
      "        [300,   1],\n",
      "        [305,   0],\n",
      "        [308,   0],\n",
      "        [308,   1],\n",
      "        [310,   0],\n",
      "        [313,   0],\n",
      "        [316,   1],\n",
      "        [330,   1],\n",
      "        [333,   1],\n",
      "        [338,   1],\n",
      "        [339,   1],\n",
      "        [346,   1],\n",
      "        [348,   0],\n",
      "        [358,   1],\n",
      "        [361,   1],\n",
      "        [366,   1],\n",
      "        [367,   0],\n",
      "        [374,   0],\n",
      "        [382,   0],\n",
      "        [383,   0],\n",
      "        [395,   0],\n",
      "        [395,   1],\n",
      "        [401,   0],\n",
      "        [402,   1],\n",
      "        [403,   0],\n",
      "        [408,   1],\n",
      "        [409,   0],\n",
      "        [415,   1],\n",
      "        [430,   1],\n",
      "        [434,   1],\n",
      "        [442,   0],\n",
      "        [449,   1],\n",
      "        [456,   1],\n",
      "        [463,   0],\n",
      "        [471,   1],\n",
      "        [472,   0],\n",
      "        [478,   1],\n",
      "        [481,   0],\n",
      "        [482,   1],\n",
      "        [483,   0],\n",
      "        [483,   1],\n",
      "        [487,   0],\n",
      "        [494,   1],\n",
      "        [496,   0],\n",
      "        [498,   1],\n",
      "        [501,   0],\n",
      "        [502,   0],\n",
      "        [506,   1],\n",
      "        [509,   1],\n",
      "        [510,   0],\n",
      "        [512,   0],\n",
      "        [517,   0],\n",
      "        [524,   1],\n",
      "        [527,   1],\n",
      "        [529,   1],\n",
      "        [537,   0],\n",
      "        [539,   1],\n",
      "        [546,   1],\n",
      "        [550,   1],\n",
      "        [561,   0],\n",
      "        [562,   0],\n",
      "        [565,   1],\n",
      "        [566,   0],\n",
      "        [570,   0],\n",
      "        [573,   1],\n",
      "        [576,   0],\n",
      "        [580,   1],\n",
      "        [583,   1],\n",
      "        [587,   0],\n",
      "        [597,   1],\n",
      "        [615,   1],\n",
      "        [616,   1],\n",
      "        [617,   1],\n",
      "        [623,   1],\n",
      "        [627,   0],\n",
      "        [629,   0],\n",
      "        [637,   0],\n",
      "        [645,   1],\n",
      "        [652,   0],\n",
      "        [653,   0],\n",
      "        [669,   0],\n",
      "        [676,   0],\n",
      "        [678,   0],\n",
      "        [679,   0],\n",
      "        [683,   0],\n",
      "        [689,   0],\n",
      "        [691,   0],\n",
      "        [703,   1],\n",
      "        [715,   1],\n",
      "        [718,   1],\n",
      "        [719,   1],\n",
      "        [732,   1],\n",
      "        [733,   1],\n",
      "        [734,   0],\n",
      "        [752,   0],\n",
      "        [754,   1],\n",
      "        [757,   0],\n",
      "        [768,   0],\n",
      "        [778,   1],\n",
      "        [781,   0],\n",
      "        [786,   1],\n",
      "        [788,   1],\n",
      "        [789,   1],\n",
      "        [790,   1],\n",
      "        [792,   0],\n",
      "        [792,   1],\n",
      "        [800,   1],\n",
      "        [803,   0],\n",
      "        [811,   1],\n",
      "        [815,   1],\n",
      "        [817,   1],\n",
      "        [822,   1],\n",
      "        [829,   0],\n",
      "        [832,   1],\n",
      "        [834,   0],\n",
      "        [842,   1],\n",
      "        [850,   0],\n",
      "        [852,   0],\n",
      "        [855,   0],\n",
      "        [861,   0],\n",
      "        [868,   1],\n",
      "        [880,   0],\n",
      "        [882,   1],\n",
      "        [883,   0],\n",
      "        [887,   1],\n",
      "        [897,   1],\n",
      "        [901,   1],\n",
      "        [903,   1],\n",
      "        [908,   1],\n",
      "        [910,   0],\n",
      "        [919,   0],\n",
      "        [926,   0],\n",
      "        [947,   0],\n",
      "        [952,   1],\n",
      "        [958,   0],\n",
      "        [959,   0],\n",
      "        [972,   0],\n",
      "        [973,   1],\n",
      "        [974,   1],\n",
      "        [977,   0],\n",
      "        [982,   1],\n",
      "        [994,   1]])\n"
     ]
    }
   ],
   "source": [
    "index = indices.nonzero()\n",
    "print(index)"
   ]
  },
  {
   "cell_type": "code",
   "execution_count": 201,
   "metadata": {},
   "outputs": [
    {
     "data": {
      "text/plain": [
       "<matplotlib.image.AxesImage at 0xe8c0780>"
      ]
     },
     "execution_count": 201,
     "metadata": {},
     "output_type": "execute_result"
    },
    {
     "data": {
      "image/png": "[encoded data removed]",
      "text/plain": [
       "<Figure size 432x288 with 1 Axes>"
      ]
     },
     "metadata": {
      "needs_background": "light"
     },
     "output_type": "display_data"
    }
   ],
   "source": [
    "plt.imshow(empty_images90[0,0],cmap='gray')"
   ]
  },
  {
   "cell_type": "code",
   "execution_count": 202,
   "metadata": {},
   "outputs": [],
   "source": [
    "empty_images90[index[:,0],index[:,1]] = training_data.train_input[index[:,0],index[:,1]]"
   ]
  },
  {
   "cell_type": "code",
   "execution_count": 203,
   "metadata": {},
   "outputs": [
    {
     "data": {
      "text/plain": [
       "<matplotlib.image.AxesImage at 0xe9211d0>"
      ]
     },
     "execution_count": 203,
     "metadata": {},
     "output_type": "execute_result"
    },
    {
     "data": {
      "image/png": "[encoded data removed]",
      "text/plain": [
       "<Figure size 432x288 with 1 Axes>"
      ]
     },
     "metadata": {
      "needs_background": "light"
     },
     "output_type": "display_data"
    }
   ],
   "source": [
    "plt.imshow(empty_images90[0,0],cmap='gray')"
   ]
  },
  {
   "cell_type": "code",
   "execution_count": 204,
   "metadata": {},
   "outputs": [
    {
     "data": {
      "text/plain": [
       "torch.Size([1000, 2, 14, 14])"
      ]
     },
     "execution_count": 204,
     "metadata": {},
     "output_type": "execute_result"
    }
   ],
   "source": [
    "training_data.train_input.shape"
   ]
  },
  {
   "cell_type": "code",
   "execution_count": 206,
   "metadata": {},
   "outputs": [
    {
     "name": "stdout",
     "output_type": "stream",
     "text": [
      "torch.Size([1000, 2, 14, 14])\n"
     ]
    }
   ],
   "source": [
    "r = torch.empty(training_data.train_input.shape)\n",
    "print(r.shape)"
   ]
  },
  {
   "cell_type": "code",
   "execution_count": null,
   "metadata": {},
   "outputs": [],
   "source": []
  }
 ],
 "metadata": {
  "kernelspec": {
   "display_name": "Python 3",
   "language": "python",
   "name": "python3"
  },
  "language_info": {
   "codemirror_mode": {
    "name": "ipython",
    "version": 3
   },
   "file_extension": ".py",
   "mimetype": "text/x-python",
   "name": "python",
   "nbconvert_exporter": "python",
   "pygments_lexer": "ipython3",
   "version": "3.7.3"
  }
 },
 "nbformat": 4,
 "nbformat_minor": 2
}
