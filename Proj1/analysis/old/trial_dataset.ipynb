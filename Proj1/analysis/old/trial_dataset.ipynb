{
 "cells": [
  {
   "cell_type": "code",
   "execution_count": 1,
   "metadata": {},
   "outputs": [],
   "source": [
    "import torch \n",
    "import sys\n",
    "sys.path.append('..')\n",
    "from torch import nn \n",
    "from torch.nn import functional as F\n",
    "from torch import optim\n",
    "#from utils.loader import load\n",
    "#from utils.loader import PairSetMNIST\n",
    "from utils.new_loader import load,PairSetMNIST,Training_set,Test_set, Training_set_split,Validation_set\n",
    "from torch.utils.data import Dataset, DataLoader"
   ]
  },
  {
   "cell_type": "code",
   "execution_count": 5,
   "metadata": {},
   "outputs": [
    {
     "name": "stdout",
     "output_type": "stream",
     "text": [
      "torch.Size([2000, 2, 14, 14])\n",
      "torch.Size([1000, 2, 14, 14])\n"
     ]
    }
   ],
   "source": [
    "# load the dataset as a Dataset object\n",
    "train_data = PairSetMNIST(data = None,train=True,test = False, split_data = False, swap_channel = True)\n",
    "print(train_data.x_.shape)\n",
    "test_data  = PairSetMNIST(data = None,train = False ,test=True, split_data = False, swap_channel = False)\n",
    "print(test_data.x_.shape)"
   ]
  },
  {
   "cell_type": "code",
   "execution_count": 6,
   "metadata": {},
   "outputs": [
    {
     "name": "stdout",
     "output_type": "stream",
     "text": [
      "enter\n",
      "enter2\n",
      "torch.Size([1600, 2, 14, 14])\n",
      "torch.Size([2000, 2, 14, 14])\n",
      "enter\n",
      "enter3\n",
      "torch.Size([400, 2, 14, 14])\n"
     ]
    }
   ],
   "source": [
    "train_data_split = PairSetMNIST(train_data,train = True,test = False ,split_data = False, swap_channel = False)\n",
    "print(train_data_split.x_.shape)\n",
    "print(train_data.x_.shape)\n",
    "valid_data_split = PairSetMNIST(train_data,train = True,test = False,split_data = True, swap_channel = False)\n",
    "print(valid_data_split.x_.shape)"
   ]
  },
  {
   "cell_type": "code",
   "execution_count": 2,
   "metadata": {},
   "outputs": [],
   "source": [
    "# load the dataset as a Dataset object\n",
    "data = PairSetMNIST( swap_channel = False)"
   ]
  },
  {
   "cell_type": "code",
   "execution_count": 3,
   "metadata": {},
   "outputs": [],
   "source": [
    "training_data = Training_set(data)\n",
    "test_data = Test_set(data)"
   ]
  },
  {
   "cell_type": "code",
   "execution_count": 4,
   "metadata": {},
   "outputs": [
    {
     "name": "stdout",
     "output_type": "stream",
     "text": [
      "torch.Size([1000, 2, 14, 14])\n",
      "torch.Size([1000, 2, 14, 14])\n"
     ]
    }
   ],
   "source": [
    "print(training_data.train_input.shape)\n",
    "print(test_data.test_input.shape)"
   ]
  },
  {
   "cell_type": "code",
   "execution_count": 6,
   "metadata": {},
   "outputs": [],
   "source": [
    "training_set_split = Training_set_split(training_data )\n",
    "validation_set = Validation_set(training_data )"
   ]
  },
  {
   "cell_type": "code",
   "execution_count": 7,
   "metadata": {},
   "outputs": [
    {
     "name": "stdout",
     "output_type": "stream",
     "text": [
      "torch.Size([800, 2, 14, 14])\n",
      "torch.Size([200, 2, 14, 14])\n"
     ]
    }
   ],
   "source": [
    "print(training_set_split.train_input.shape)\n",
    "print(validation_set.valid_input.shape)"
   ]
  },
  {
   "cell_type": "code",
   "execution_count": 9,
   "metadata": {},
   "outputs": [
    {
     "name": "stdout",
     "output_type": "stream",
     "text": [
      "torch.Size([2000, 2, 14, 14])\n",
      "torch.Size([1000, 2, 14, 14])\n",
      "torch.Size([1600, 2, 14, 14])\n",
      "torch.Size([400, 2, 14, 14])\n"
     ]
    }
   ],
   "source": [
    "# load the dataset as a Dataset object\n",
    "data1 = PairSetMNIST( swap_channel = True)\n",
    "training_data1 = Training_set(data1)\n",
    "test_data1 = Test_set(data1)\n",
    "print(training_data1.train_input.shape)\n",
    "print(test_data1.test_input.shape)\n",
    "training_set_split1 = Training_set_split(training_data1 )\n",
    "validation_set1 = Validation_set(training_data1 )\n",
    "print(training_set_split1.train_input.shape)\n",
    "print(validation_set1.valid_input.shape)"
   ]
  },
  {
   "cell_type": "code",
   "execution_count": 11,
   "metadata": {},
   "outputs": [
    {
     "data": {
      "text/plain": [
       "1600"
      ]
     },
     "execution_count": 11,
     "metadata": {},
     "output_type": "execute_result"
    }
   ],
   "source": [
    "training_set_split1.len"
   ]
  },
  {
   "cell_type": "code",
   "execution_count": 2,
   "metadata": {},
   "outputs": [
    {
     "name": "stdout",
     "output_type": "stream",
     "text": [
      "torch.Size([8000, 2, 14, 14])\n",
      "torch.Size([1000, 2, 14, 14])\n"
     ]
    }
   ],
   "source": [
    "# load the dataset as a Dataset object\n",
    "data2 = PairSetMNIST( rotate=True,translate=False,swap_channel = True)\n",
    "training_data2 = Training_set(data2)\n",
    "test_data2 = Test_set(data2)\n",
    "print(training_data2.train_input.shape)\n",
    "print(test_data2.test_input.shape)\n",
    "#training_set_split1 = Training_set_split(training_data1 )\n",
    "#validation_set1 = Validation_set(training_data1 )\n",
    "#print(training_set_split1.train_input.shape)\n",
    "#print(validation_set1.valid_input.shape)"
   ]
  },
  {
   "cell_type": "code",
   "execution_count": 3,
   "metadata": {},
   "outputs": [
    {
     "name": "stdout",
     "output_type": "stream",
     "text": [
      "torch.Size([10000, 2, 14, 14])\n",
      "torch.Size([1000, 2, 14, 14])\n"
     ]
    }
   ],
   "source": [
    "data3 = PairSetMNIST( rotate=False,translate=True,swap_channel = True)\n",
    "training_data3 = Training_set(data3)\n",
    "test_data3 = Test_set(data3)\n",
    "print(training_data3.train_input.shape)\n",
    "print(test_data3.test_input.shape)"
   ]
  },
  {
   "cell_type": "code",
   "execution_count": 4,
   "metadata": {},
   "outputs": [
    {
     "name": "stdout",
     "output_type": "stream",
     "text": [
      "torch.Size([16000, 2, 14, 14])\n",
      "torch.Size([1000, 2, 14, 14])\n"
     ]
    }
   ],
   "source": [
    "data4 = PairSetMNIST( rotate=True,translate=True,swap_channel = True)\n",
    "training_data4 = Training_set(data4)\n",
    "test_data4 = Test_set(data4)\n",
    "print(training_data4.train_input.shape)\n",
    "print(test_data4.test_input.shape)"
   ]
  },
  {
   "cell_type": "code",
   "execution_count": null,
   "metadata": {},
   "outputs": [],
   "source": []
  }
 ],
 "metadata": {
  "kernelspec": {
   "display_name": "Python 3",
   "language": "python",
   "name": "python3"
  },
  "language_info": {
   "codemirror_mode": {
    "name": "ipython",
    "version": 3
   },
   "file_extension": ".py",
   "mimetype": "text/x-python",
   "name": "python",
   "nbconvert_exporter": "python",
   "pygments_lexer": "ipython3",
   "version": "3.7.3"
  }
 },
 "nbformat": 4,
 "nbformat_minor": 2
}
